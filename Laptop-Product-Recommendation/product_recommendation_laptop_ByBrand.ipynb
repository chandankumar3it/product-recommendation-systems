{
  "nbformat": 4,
  "nbformat_minor": 0,
  "metadata": {
    "colab": {
      "provenance": []
    },
    "kernelspec": {
      "name": "python3",
      "display_name": "Python 3"
    },
    "language_info": {
      "name": "python"
    },
    "widgets": {
      "application/vnd.jupyter.widget-state+json": {
        "66f188e9b099472f97c66f1339e4601f": {
          "model_module": "@jupyter-widgets/controls",
          "model_name": "DropdownModel",
          "model_module_version": "1.5.0",
          "state": {
            "_dom_classes": [],
            "_model_module": "@jupyter-widgets/controls",
            "_model_module_version": "1.5.0",
            "_model_name": "DropdownModel",
            "_options_labels": [
              "name",
              "brand"
            ],
            "_view_count": null,
            "_view_module": "@jupyter-widgets/controls",
            "_view_module_version": "1.5.0",
            "_view_name": "DropdownView",
            "description": "Search by:",
            "description_tooltip": null,
            "disabled": false,
            "index": 0,
            "layout": "IPY_MODEL_7324d7cfb7e14cdf939aedebf149e8b8",
            "style": "IPY_MODEL_d1b2b853ac22400fb549f2979f7b878b"
          }
        },
        "7324d7cfb7e14cdf939aedebf149e8b8": {
          "model_module": "@jupyter-widgets/base",
          "model_name": "LayoutModel",
          "model_module_version": "1.2.0",
          "state": {
            "_model_module": "@jupyter-widgets/base",
            "_model_module_version": "1.2.0",
            "_model_name": "LayoutModel",
            "_view_count": null,
            "_view_module": "@jupyter-widgets/base",
            "_view_module_version": "1.2.0",
            "_view_name": "LayoutView",
            "align_content": null,
            "align_items": null,
            "align_self": null,
            "border": null,
            "bottom": null,
            "display": null,
            "flex": null,
            "flex_flow": null,
            "grid_area": null,
            "grid_auto_columns": null,
            "grid_auto_flow": null,
            "grid_auto_rows": null,
            "grid_column": null,
            "grid_gap": null,
            "grid_row": null,
            "grid_template_areas": null,
            "grid_template_columns": null,
            "grid_template_rows": null,
            "height": null,
            "justify_content": null,
            "justify_items": null,
            "left": null,
            "margin": null,
            "max_height": null,
            "max_width": null,
            "min_height": null,
            "min_width": null,
            "object_fit": null,
            "object_position": null,
            "order": null,
            "overflow": null,
            "overflow_x": null,
            "overflow_y": null,
            "padding": null,
            "right": null,
            "top": null,
            "visibility": null,
            "width": null
          }
        },
        "d1b2b853ac22400fb549f2979f7b878b": {
          "model_module": "@jupyter-widgets/controls",
          "model_name": "DescriptionStyleModel",
          "model_module_version": "1.5.0",
          "state": {
            "_model_module": "@jupyter-widgets/controls",
            "_model_module_version": "1.5.0",
            "_model_name": "DescriptionStyleModel",
            "_view_count": null,
            "_view_module": "@jupyter-widgets/base",
            "_view_module_version": "1.2.0",
            "_view_name": "StyleView",
            "description_width": "initial"
          }
        },
        "45ab2d7238c54156bcd1cd6ec740c96e": {
          "model_module": "@jupyter-widgets/controls",
          "model_name": "TextModel",
          "model_module_version": "1.5.0",
          "state": {
            "_dom_classes": [],
            "_model_module": "@jupyter-widgets/controls",
            "_model_module_version": "1.5.0",
            "_model_name": "TextModel",
            "_view_count": null,
            "_view_module": "@jupyter-widgets/controls",
            "_view_module_version": "1.5.0",
            "_view_name": "TextView",
            "continuous_update": true,
            "description": "Input:",
            "description_tooltip": null,
            "disabled": false,
            "layout": "IPY_MODEL_3f8b94ce956343a6ac24f026f96d6b3c",
            "placeholder": "Enter the product name or brand...",
            "style": "IPY_MODEL_f73d46d349224fc4aeeeb9ab1dfaee60",
            "value": ""
          }
        },
        "3f8b94ce956343a6ac24f026f96d6b3c": {
          "model_module": "@jupyter-widgets/base",
          "model_name": "LayoutModel",
          "model_module_version": "1.2.0",
          "state": {
            "_model_module": "@jupyter-widgets/base",
            "_model_module_version": "1.2.0",
            "_model_name": "LayoutModel",
            "_view_count": null,
            "_view_module": "@jupyter-widgets/base",
            "_view_module_version": "1.2.0",
            "_view_name": "LayoutView",
            "align_content": null,
            "align_items": null,
            "align_self": null,
            "border": null,
            "bottom": null,
            "display": null,
            "flex": null,
            "flex_flow": null,
            "grid_area": null,
            "grid_auto_columns": null,
            "grid_auto_flow": null,
            "grid_auto_rows": null,
            "grid_column": null,
            "grid_gap": null,
            "grid_row": null,
            "grid_template_areas": null,
            "grid_template_columns": null,
            "grid_template_rows": null,
            "height": null,
            "justify_content": null,
            "justify_items": null,
            "left": null,
            "margin": null,
            "max_height": null,
            "max_width": null,
            "min_height": null,
            "min_width": null,
            "object_fit": null,
            "object_position": null,
            "order": null,
            "overflow": null,
            "overflow_x": null,
            "overflow_y": null,
            "padding": null,
            "right": null,
            "top": null,
            "visibility": null,
            "width": null
          }
        },
        "f73d46d349224fc4aeeeb9ab1dfaee60": {
          "model_module": "@jupyter-widgets/controls",
          "model_name": "DescriptionStyleModel",
          "model_module_version": "1.5.0",
          "state": {
            "_model_module": "@jupyter-widgets/controls",
            "_model_module_version": "1.5.0",
            "_model_name": "DescriptionStyleModel",
            "_view_count": null,
            "_view_module": "@jupyter-widgets/base",
            "_view_module_version": "1.2.0",
            "_view_name": "StyleView",
            "description_width": "initial"
          }
        },
        "0310d62f6cb54a949ab12ea9bb9f821e": {
          "model_module": "@jupyter-widgets/controls",
          "model_name": "ButtonModel",
          "model_module_version": "1.5.0",
          "state": {
            "_dom_classes": [],
            "_model_module": "@jupyter-widgets/controls",
            "_model_module_version": "1.5.0",
            "_model_name": "ButtonModel",
            "_view_count": null,
            "_view_module": "@jupyter-widgets/controls",
            "_view_module_version": "1.5.0",
            "_view_name": "ButtonView",
            "button_style": "success",
            "description": "Get Recommendations",
            "disabled": false,
            "icon": "",
            "layout": "IPY_MODEL_06b56b47631d4c50b7efe86038a3e7fa",
            "style": "IPY_MODEL_b465ddece29b44a49650b8de6dd90768",
            "tooltip": "Click to get recommendations"
          }
        },
        "06b56b47631d4c50b7efe86038a3e7fa": {
          "model_module": "@jupyter-widgets/base",
          "model_name": "LayoutModel",
          "model_module_version": "1.2.0",
          "state": {
            "_model_module": "@jupyter-widgets/base",
            "_model_module_version": "1.2.0",
            "_model_name": "LayoutModel",
            "_view_count": null,
            "_view_module": "@jupyter-widgets/base",
            "_view_module_version": "1.2.0",
            "_view_name": "LayoutView",
            "align_content": null,
            "align_items": null,
            "align_self": null,
            "border": null,
            "bottom": null,
            "display": null,
            "flex": null,
            "flex_flow": null,
            "grid_area": null,
            "grid_auto_columns": null,
            "grid_auto_flow": null,
            "grid_auto_rows": null,
            "grid_column": null,
            "grid_gap": null,
            "grid_row": null,
            "grid_template_areas": null,
            "grid_template_columns": null,
            "grid_template_rows": null,
            "height": null,
            "justify_content": null,
            "justify_items": null,
            "left": null,
            "margin": null,
            "max_height": null,
            "max_width": null,
            "min_height": null,
            "min_width": null,
            "object_fit": null,
            "object_position": null,
            "order": null,
            "overflow": null,
            "overflow_x": null,
            "overflow_y": null,
            "padding": null,
            "right": null,
            "top": null,
            "visibility": null,
            "width": null
          }
        },
        "b465ddece29b44a49650b8de6dd90768": {
          "model_module": "@jupyter-widgets/controls",
          "model_name": "ButtonStyleModel",
          "model_module_version": "1.5.0",
          "state": {
            "_model_module": "@jupyter-widgets/controls",
            "_model_module_version": "1.5.0",
            "_model_name": "ButtonStyleModel",
            "_view_count": null,
            "_view_module": "@jupyter-widgets/base",
            "_view_module_version": "1.2.0",
            "_view_name": "StyleView",
            "button_color": null,
            "font_weight": ""
          }
        },
        "07882ce04180428a9a48e7758a747af1": {
          "model_module": "@jupyter-widgets/output",
          "model_name": "OutputModel",
          "model_module_version": "1.0.0",
          "state": {
            "_dom_classes": [],
            "_model_module": "@jupyter-widgets/output",
            "_model_module_version": "1.0.0",
            "_model_name": "OutputModel",
            "_view_count": null,
            "_view_module": "@jupyter-widgets/output",
            "_view_module_version": "1.0.0",
            "_view_name": "OutputView",
            "layout": "IPY_MODEL_5d1b01d9349440acb60f769de533953c",
            "msg_id": "",
            "outputs": []
          }
        },
        "5d1b01d9349440acb60f769de533953c": {
          "model_module": "@jupyter-widgets/base",
          "model_name": "LayoutModel",
          "model_module_version": "1.2.0",
          "state": {
            "_model_module": "@jupyter-widgets/base",
            "_model_module_version": "1.2.0",
            "_model_name": "LayoutModel",
            "_view_count": null,
            "_view_module": "@jupyter-widgets/base",
            "_view_module_version": "1.2.0",
            "_view_name": "LayoutView",
            "align_content": null,
            "align_items": null,
            "align_self": null,
            "border": null,
            "bottom": null,
            "display": null,
            "flex": null,
            "flex_flow": null,
            "grid_area": null,
            "grid_auto_columns": null,
            "grid_auto_flow": null,
            "grid_auto_rows": null,
            "grid_column": null,
            "grid_gap": null,
            "grid_row": null,
            "grid_template_areas": null,
            "grid_template_columns": null,
            "grid_template_rows": null,
            "height": null,
            "justify_content": null,
            "justify_items": null,
            "left": null,
            "margin": null,
            "max_height": null,
            "max_width": null,
            "min_height": null,
            "min_width": null,
            "object_fit": null,
            "object_position": null,
            "order": null,
            "overflow": null,
            "overflow_x": null,
            "overflow_y": null,
            "padding": null,
            "right": null,
            "top": null,
            "visibility": null,
            "width": null
          }
        }
      }
    }
  },
  "cells": [
    {
      "cell_type": "code",
      "execution_count": null,
      "metadata": {
        "colab": {
          "base_uri": "https://localhost:8080/"
        },
        "id": "18wFY-xwjO5L",
        "outputId": "ecd695c0-5932-4b05-faf4-b689b84efc13"
      },
      "outputs": [
        {
          "output_type": "stream",
          "name": "stdout",
          "text": [
            "Requirement already satisfied: ipywidgets in /usr/local/lib/python3.10/dist-packages (7.7.1)\n",
            "Requirement already satisfied: ipykernel>=4.5.1 in /usr/local/lib/python3.10/dist-packages (from ipywidgets) (5.5.6)\n",
            "Requirement already satisfied: ipython-genutils~=0.2.0 in /usr/local/lib/python3.10/dist-packages (from ipywidgets) (0.2.0)\n",
            "Requirement already satisfied: traitlets>=4.3.1 in /usr/local/lib/python3.10/dist-packages (from ipywidgets) (5.7.1)\n",
            "Requirement already satisfied: widgetsnbextension~=3.6.0 in /usr/local/lib/python3.10/dist-packages (from ipywidgets) (3.6.9)\n",
            "Requirement already satisfied: ipython>=4.0.0 in /usr/local/lib/python3.10/dist-packages (from ipywidgets) (7.34.0)\n",
            "Requirement already satisfied: jupyterlab-widgets>=1.0.0 in /usr/local/lib/python3.10/dist-packages (from ipywidgets) (3.0.13)\n",
            "Requirement already satisfied: jupyter-client in /usr/local/lib/python3.10/dist-packages (from ipykernel>=4.5.1->ipywidgets) (6.1.12)\n",
            "Requirement already satisfied: tornado>=4.2 in /usr/local/lib/python3.10/dist-packages (from ipykernel>=4.5.1->ipywidgets) (6.3.3)\n",
            "Requirement already satisfied: setuptools>=18.5 in /usr/local/lib/python3.10/dist-packages (from ipython>=4.0.0->ipywidgets) (71.0.4)\n",
            "Requirement already satisfied: jedi>=0.16 in /usr/local/lib/python3.10/dist-packages (from ipython>=4.0.0->ipywidgets) (0.19.1)\n",
            "Requirement already satisfied: decorator in /usr/local/lib/python3.10/dist-packages (from ipython>=4.0.0->ipywidgets) (4.4.2)\n",
            "Requirement already satisfied: pickleshare in /usr/local/lib/python3.10/dist-packages (from ipython>=4.0.0->ipywidgets) (0.7.5)\n",
            "Requirement already satisfied: prompt-toolkit!=3.0.0,!=3.0.1,<3.1.0,>=2.0.0 in /usr/local/lib/python3.10/dist-packages (from ipython>=4.0.0->ipywidgets) (3.0.47)\n",
            "Requirement already satisfied: pygments in /usr/local/lib/python3.10/dist-packages (from ipython>=4.0.0->ipywidgets) (2.18.0)\n",
            "Requirement already satisfied: backcall in /usr/local/lib/python3.10/dist-packages (from ipython>=4.0.0->ipywidgets) (0.2.0)\n",
            "Requirement already satisfied: matplotlib-inline in /usr/local/lib/python3.10/dist-packages (from ipython>=4.0.0->ipywidgets) (0.1.7)\n",
            "Requirement already satisfied: pexpect>4.3 in /usr/local/lib/python3.10/dist-packages (from ipython>=4.0.0->ipywidgets) (4.9.0)\n",
            "Requirement already satisfied: notebook>=4.4.1 in /usr/local/lib/python3.10/dist-packages (from widgetsnbextension~=3.6.0->ipywidgets) (6.5.5)\n",
            "Requirement already satisfied: parso<0.9.0,>=0.8.3 in /usr/local/lib/python3.10/dist-packages (from jedi>=0.16->ipython>=4.0.0->ipywidgets) (0.8.4)\n",
            "Requirement already satisfied: jinja2 in /usr/local/lib/python3.10/dist-packages (from notebook>=4.4.1->widgetsnbextension~=3.6.0->ipywidgets) (3.1.4)\n",
            "Requirement already satisfied: pyzmq<25,>=17 in /usr/local/lib/python3.10/dist-packages (from notebook>=4.4.1->widgetsnbextension~=3.6.0->ipywidgets) (24.0.1)\n",
            "Requirement already satisfied: argon2-cffi in /usr/local/lib/python3.10/dist-packages (from notebook>=4.4.1->widgetsnbextension~=3.6.0->ipywidgets) (23.1.0)\n",
            "Requirement already satisfied: jupyter-core>=4.6.1 in /usr/local/lib/python3.10/dist-packages (from notebook>=4.4.1->widgetsnbextension~=3.6.0->ipywidgets) (5.7.2)\n",
            "Requirement already satisfied: nbformat in /usr/local/lib/python3.10/dist-packages (from notebook>=4.4.1->widgetsnbextension~=3.6.0->ipywidgets) (5.10.4)\n",
            "Requirement already satisfied: nbconvert>=5 in /usr/local/lib/python3.10/dist-packages (from notebook>=4.4.1->widgetsnbextension~=3.6.0->ipywidgets) (6.5.4)\n",
            "Requirement already satisfied: nest-asyncio>=1.5 in /usr/local/lib/python3.10/dist-packages (from notebook>=4.4.1->widgetsnbextension~=3.6.0->ipywidgets) (1.6.0)\n",
            "Requirement already satisfied: Send2Trash>=1.8.0 in /usr/local/lib/python3.10/dist-packages (from notebook>=4.4.1->widgetsnbextension~=3.6.0->ipywidgets) (1.8.3)\n",
            "Requirement already satisfied: terminado>=0.8.3 in /usr/local/lib/python3.10/dist-packages (from notebook>=4.4.1->widgetsnbextension~=3.6.0->ipywidgets) (0.18.1)\n",
            "Requirement already satisfied: prometheus-client in /usr/local/lib/python3.10/dist-packages (from notebook>=4.4.1->widgetsnbextension~=3.6.0->ipywidgets) (0.20.0)\n",
            "Requirement already satisfied: nbclassic>=0.4.7 in /usr/local/lib/python3.10/dist-packages (from notebook>=4.4.1->widgetsnbextension~=3.6.0->ipywidgets) (1.1.0)\n",
            "Requirement already satisfied: python-dateutil>=2.1 in /usr/local/lib/python3.10/dist-packages (from jupyter-client->ipykernel>=4.5.1->ipywidgets) (2.8.2)\n",
            "Requirement already satisfied: ptyprocess>=0.5 in /usr/local/lib/python3.10/dist-packages (from pexpect>4.3->ipython>=4.0.0->ipywidgets) (0.7.0)\n",
            "Requirement already satisfied: wcwidth in /usr/local/lib/python3.10/dist-packages (from prompt-toolkit!=3.0.0,!=3.0.1,<3.1.0,>=2.0.0->ipython>=4.0.0->ipywidgets) (0.2.13)\n",
            "Requirement already satisfied: platformdirs>=2.5 in /usr/local/lib/python3.10/dist-packages (from jupyter-core>=4.6.1->notebook>=4.4.1->widgetsnbextension~=3.6.0->ipywidgets) (4.3.6)\n",
            "Requirement already satisfied: notebook-shim>=0.2.3 in /usr/local/lib/python3.10/dist-packages (from nbclassic>=0.4.7->notebook>=4.4.1->widgetsnbextension~=3.6.0->ipywidgets) (0.2.4)\n",
            "Requirement already satisfied: lxml in /usr/local/lib/python3.10/dist-packages (from nbconvert>=5->notebook>=4.4.1->widgetsnbextension~=3.6.0->ipywidgets) (4.9.4)\n",
            "Requirement already satisfied: beautifulsoup4 in /usr/local/lib/python3.10/dist-packages (from nbconvert>=5->notebook>=4.4.1->widgetsnbextension~=3.6.0->ipywidgets) (4.12.3)\n",
            "Requirement already satisfied: bleach in /usr/local/lib/python3.10/dist-packages (from nbconvert>=5->notebook>=4.4.1->widgetsnbextension~=3.6.0->ipywidgets) (6.1.0)\n",
            "Requirement already satisfied: defusedxml in /usr/local/lib/python3.10/dist-packages (from nbconvert>=5->notebook>=4.4.1->widgetsnbextension~=3.6.0->ipywidgets) (0.7.1)\n",
            "Requirement already satisfied: entrypoints>=0.2.2 in /usr/local/lib/python3.10/dist-packages (from nbconvert>=5->notebook>=4.4.1->widgetsnbextension~=3.6.0->ipywidgets) (0.4)\n",
            "Requirement already satisfied: jupyterlab-pygments in /usr/local/lib/python3.10/dist-packages (from nbconvert>=5->notebook>=4.4.1->widgetsnbextension~=3.6.0->ipywidgets) (0.3.0)\n",
            "Requirement already satisfied: MarkupSafe>=2.0 in /usr/local/lib/python3.10/dist-packages (from nbconvert>=5->notebook>=4.4.1->widgetsnbextension~=3.6.0->ipywidgets) (2.1.5)\n",
            "Requirement already satisfied: mistune<2,>=0.8.1 in /usr/local/lib/python3.10/dist-packages (from nbconvert>=5->notebook>=4.4.1->widgetsnbextension~=3.6.0->ipywidgets) (0.8.4)\n",
            "Requirement already satisfied: nbclient>=0.5.0 in /usr/local/lib/python3.10/dist-packages (from nbconvert>=5->notebook>=4.4.1->widgetsnbextension~=3.6.0->ipywidgets) (0.10.0)\n",
            "Requirement already satisfied: packaging in /usr/local/lib/python3.10/dist-packages (from nbconvert>=5->notebook>=4.4.1->widgetsnbextension~=3.6.0->ipywidgets) (24.1)\n",
            "Requirement already satisfied: pandocfilters>=1.4.1 in /usr/local/lib/python3.10/dist-packages (from nbconvert>=5->notebook>=4.4.1->widgetsnbextension~=3.6.0->ipywidgets) (1.5.1)\n",
            "Requirement already satisfied: tinycss2 in /usr/local/lib/python3.10/dist-packages (from nbconvert>=5->notebook>=4.4.1->widgetsnbextension~=3.6.0->ipywidgets) (1.3.0)\n",
            "Requirement already satisfied: fastjsonschema>=2.15 in /usr/local/lib/python3.10/dist-packages (from nbformat->notebook>=4.4.1->widgetsnbextension~=3.6.0->ipywidgets) (2.20.0)\n",
            "Requirement already satisfied: jsonschema>=2.6 in /usr/local/lib/python3.10/dist-packages (from nbformat->notebook>=4.4.1->widgetsnbextension~=3.6.0->ipywidgets) (4.23.0)\n",
            "Requirement already satisfied: six>=1.5 in /usr/local/lib/python3.10/dist-packages (from python-dateutil>=2.1->jupyter-client->ipykernel>=4.5.1->ipywidgets) (1.16.0)\n",
            "Requirement already satisfied: argon2-cffi-bindings in /usr/local/lib/python3.10/dist-packages (from argon2-cffi->notebook>=4.4.1->widgetsnbextension~=3.6.0->ipywidgets) (21.2.0)\n",
            "Requirement already satisfied: attrs>=22.2.0 in /usr/local/lib/python3.10/dist-packages (from jsonschema>=2.6->nbformat->notebook>=4.4.1->widgetsnbextension~=3.6.0->ipywidgets) (24.2.0)\n",
            "Requirement already satisfied: jsonschema-specifications>=2023.03.6 in /usr/local/lib/python3.10/dist-packages (from jsonschema>=2.6->nbformat->notebook>=4.4.1->widgetsnbextension~=3.6.0->ipywidgets) (2023.12.1)\n",
            "Requirement already satisfied: referencing>=0.28.4 in /usr/local/lib/python3.10/dist-packages (from jsonschema>=2.6->nbformat->notebook>=4.4.1->widgetsnbextension~=3.6.0->ipywidgets) (0.35.1)\n",
            "Requirement already satisfied: rpds-py>=0.7.1 in /usr/local/lib/python3.10/dist-packages (from jsonschema>=2.6->nbformat->notebook>=4.4.1->widgetsnbextension~=3.6.0->ipywidgets) (0.20.0)\n",
            "Requirement already satisfied: jupyter-server<3,>=1.8 in /usr/local/lib/python3.10/dist-packages (from notebook-shim>=0.2.3->nbclassic>=0.4.7->notebook>=4.4.1->widgetsnbextension~=3.6.0->ipywidgets) (1.24.0)\n",
            "Requirement already satisfied: cffi>=1.0.1 in /usr/local/lib/python3.10/dist-packages (from argon2-cffi-bindings->argon2-cffi->notebook>=4.4.1->widgetsnbextension~=3.6.0->ipywidgets) (1.17.1)\n",
            "Requirement already satisfied: soupsieve>1.2 in /usr/local/lib/python3.10/dist-packages (from beautifulsoup4->nbconvert>=5->notebook>=4.4.1->widgetsnbextension~=3.6.0->ipywidgets) (2.6)\n",
            "Requirement already satisfied: webencodings in /usr/local/lib/python3.10/dist-packages (from bleach->nbconvert>=5->notebook>=4.4.1->widgetsnbextension~=3.6.0->ipywidgets) (0.5.1)\n",
            "Requirement already satisfied: pycparser in /usr/local/lib/python3.10/dist-packages (from cffi>=1.0.1->argon2-cffi-bindings->argon2-cffi->notebook>=4.4.1->widgetsnbextension~=3.6.0->ipywidgets) (2.22)\n",
            "Requirement already satisfied: anyio<4,>=3.1.0 in /usr/local/lib/python3.10/dist-packages (from jupyter-server<3,>=1.8->notebook-shim>=0.2.3->nbclassic>=0.4.7->notebook>=4.4.1->widgetsnbextension~=3.6.0->ipywidgets) (3.7.1)\n",
            "Requirement already satisfied: websocket-client in /usr/local/lib/python3.10/dist-packages (from jupyter-server<3,>=1.8->notebook-shim>=0.2.3->nbclassic>=0.4.7->notebook>=4.4.1->widgetsnbextension~=3.6.0->ipywidgets) (1.8.0)\n",
            "Requirement already satisfied: idna>=2.8 in /usr/local/lib/python3.10/dist-packages (from anyio<4,>=3.1.0->jupyter-server<3,>=1.8->notebook-shim>=0.2.3->nbclassic>=0.4.7->notebook>=4.4.1->widgetsnbextension~=3.6.0->ipywidgets) (3.10)\n",
            "Requirement already satisfied: sniffio>=1.1 in /usr/local/lib/python3.10/dist-packages (from anyio<4,>=3.1.0->jupyter-server<3,>=1.8->notebook-shim>=0.2.3->nbclassic>=0.4.7->notebook>=4.4.1->widgetsnbextension~=3.6.0->ipywidgets) (1.3.1)\n",
            "Requirement already satisfied: exceptiongroup in /usr/local/lib/python3.10/dist-packages (from anyio<4,>=3.1.0->jupyter-server<3,>=1.8->notebook-shim>=0.2.3->nbclassic>=0.4.7->notebook>=4.4.1->widgetsnbextension~=3.6.0->ipywidgets) (1.2.2)\n"
          ]
        }
      ],
      "source": [
        "# Import required libraries\n",
        "!pip install ipywidgets\n",
        "import pandas as pd\n",
        "import numpy as np\n",
        "import torch\n",
        "from transformers import AutoTokenizer, AutoModel\n",
        "from sklearn.metrics.pairwise import cosine_similarity\n",
        "import ipywidgets as widgets\n",
        "from IPython.display import display"
      ]
    },
    {
      "cell_type": "code",
      "source": [
        "# Load the dataset\n",
        "laptop_data = pd.read_csv('laptop_data.csv')"
      ],
      "metadata": {
        "id": "U_-7hAChlFjB"
      },
      "execution_count": null,
      "outputs": []
    },
    {
      "cell_type": "code",
      "source": [
        "laptop_data.head()"
      ],
      "metadata": {
        "colab": {
          "base_uri": "https://localhost:8080/",
          "height": 519
        },
        "id": "SsOuhf9mq0jo",
        "outputId": "9853c12e-6250-4bf4-be3c-56369bbb8253"
      },
      "execution_count": null,
      "outputs": [
        {
          "output_type": "execute_result",
          "data": {
            "text/plain": [
              "    Brand   Model Name Core CPU Manufacturer Clock Speed RAM Size  \\\n",
              "0    Dell     Inspiron   i5            Intel     2.4 GHz      8GB   \n",
              "1     MSI         GL65   i7            Intel     2.6 GHz     16GB   \n",
              "2      HP    EliteBook   i7            Intel     2.8 GHz     16GB   \n",
              "3  Lenovo      IdeaPad   i3            Intel     2.1 GHz      8GB   \n",
              "4    ASUS  ZenBook Pro   i9            Intel     3.1 GHz     64GB   \n",
              "\n",
              "  Storage Type Display Type Display Size Graphics Processor Screen Resolution  \\\n",
              "0          SSD          LCD        15.6\"          Intel UHD         1920x1080   \n",
              "1      HDD+SSD          IPS        15.6\"         NVIDIA GTX         1920x1080   \n",
              "2          SSD          LED          14\"          Intel UHD         1920x1080   \n",
              "3          HDD           TN        15.6\"          Intel UHD          1366x768   \n",
              "4          SSD         OLED        15.6\"         NVIDIA RTX         3840x2160   \n",
              "\n",
              "           OS Laptop Weight    Special Features Warranty Average Battery Life  \\\n",
              "0  Windows 10        2.5 kg    Backlit Keyboard   1 year              6 hours   \n",
              "1  Windows 10        2.3 kg        RGB Keyboard  2 years              4 hours   \n",
              "2  Windows 11        1.5 kg  Fingerprint Sensor  3 years              8 hours   \n",
              "3  Windows 10        2.2 kg         Dolby Audio   1 year              5 hours   \n",
              "4  Windows 10        1.8 kg    NanoEdge Display  2 years              7 hours   \n",
              "\n",
              "     Price                                        Description  \n",
              "0   35,000  The Dell Inspiron is a versatile laptop that c...  \n",
              "1   55,000  The MSI GL65 is a high-performance laptop desi...  \n",
              "2   90,000  The HP EliteBook is a premium laptop designed ...  \n",
              "3   25,000  The Lenovo IdeaPad is a versatile laptop that ...  \n",
              "4  200,000  The ASUS ZenBook Pro is a high-end laptop that...  "
            ],
            "text/html": [
              "\n",
              "  <div id=\"df-a75d2192-e9ee-4346-8b29-9a971947ec0b\" class=\"colab-df-container\">\n",
              "    <div>\n",
              "<style scoped>\n",
              "    .dataframe tbody tr th:only-of-type {\n",
              "        vertical-align: middle;\n",
              "    }\n",
              "\n",
              "    .dataframe tbody tr th {\n",
              "        vertical-align: top;\n",
              "    }\n",
              "\n",
              "    .dataframe thead th {\n",
              "        text-align: right;\n",
              "    }\n",
              "</style>\n",
              "<table border=\"1\" class=\"dataframe\">\n",
              "  <thead>\n",
              "    <tr style=\"text-align: right;\">\n",
              "      <th></th>\n",
              "      <th>Brand</th>\n",
              "      <th>Model Name</th>\n",
              "      <th>Core</th>\n",
              "      <th>CPU Manufacturer</th>\n",
              "      <th>Clock Speed</th>\n",
              "      <th>RAM Size</th>\n",
              "      <th>Storage Type</th>\n",
              "      <th>Display Type</th>\n",
              "      <th>Display Size</th>\n",
              "      <th>Graphics Processor</th>\n",
              "      <th>Screen Resolution</th>\n",
              "      <th>OS</th>\n",
              "      <th>Laptop Weight</th>\n",
              "      <th>Special Features</th>\n",
              "      <th>Warranty</th>\n",
              "      <th>Average Battery Life</th>\n",
              "      <th>Price</th>\n",
              "      <th>Description</th>\n",
              "    </tr>\n",
              "  </thead>\n",
              "  <tbody>\n",
              "    <tr>\n",
              "      <th>0</th>\n",
              "      <td>Dell</td>\n",
              "      <td>Inspiron</td>\n",
              "      <td>i5</td>\n",
              "      <td>Intel</td>\n",
              "      <td>2.4 GHz</td>\n",
              "      <td>8GB</td>\n",
              "      <td>SSD</td>\n",
              "      <td>LCD</td>\n",
              "      <td>15.6\"</td>\n",
              "      <td>Intel UHD</td>\n",
              "      <td>1920x1080</td>\n",
              "      <td>Windows 10</td>\n",
              "      <td>2.5 kg</td>\n",
              "      <td>Backlit Keyboard</td>\n",
              "      <td>1 year</td>\n",
              "      <td>6 hours</td>\n",
              "      <td>35,000</td>\n",
              "      <td>The Dell Inspiron is a versatile laptop that c...</td>\n",
              "    </tr>\n",
              "    <tr>\n",
              "      <th>1</th>\n",
              "      <td>MSI</td>\n",
              "      <td>GL65</td>\n",
              "      <td>i7</td>\n",
              "      <td>Intel</td>\n",
              "      <td>2.6 GHz</td>\n",
              "      <td>16GB</td>\n",
              "      <td>HDD+SSD</td>\n",
              "      <td>IPS</td>\n",
              "      <td>15.6\"</td>\n",
              "      <td>NVIDIA GTX</td>\n",
              "      <td>1920x1080</td>\n",
              "      <td>Windows 10</td>\n",
              "      <td>2.3 kg</td>\n",
              "      <td>RGB Keyboard</td>\n",
              "      <td>2 years</td>\n",
              "      <td>4 hours</td>\n",
              "      <td>55,000</td>\n",
              "      <td>The MSI GL65 is a high-performance laptop desi...</td>\n",
              "    </tr>\n",
              "    <tr>\n",
              "      <th>2</th>\n",
              "      <td>HP</td>\n",
              "      <td>EliteBook</td>\n",
              "      <td>i7</td>\n",
              "      <td>Intel</td>\n",
              "      <td>2.8 GHz</td>\n",
              "      <td>16GB</td>\n",
              "      <td>SSD</td>\n",
              "      <td>LED</td>\n",
              "      <td>14\"</td>\n",
              "      <td>Intel UHD</td>\n",
              "      <td>1920x1080</td>\n",
              "      <td>Windows 11</td>\n",
              "      <td>1.5 kg</td>\n",
              "      <td>Fingerprint Sensor</td>\n",
              "      <td>3 years</td>\n",
              "      <td>8 hours</td>\n",
              "      <td>90,000</td>\n",
              "      <td>The HP EliteBook is a premium laptop designed ...</td>\n",
              "    </tr>\n",
              "    <tr>\n",
              "      <th>3</th>\n",
              "      <td>Lenovo</td>\n",
              "      <td>IdeaPad</td>\n",
              "      <td>i3</td>\n",
              "      <td>Intel</td>\n",
              "      <td>2.1 GHz</td>\n",
              "      <td>8GB</td>\n",
              "      <td>HDD</td>\n",
              "      <td>TN</td>\n",
              "      <td>15.6\"</td>\n",
              "      <td>Intel UHD</td>\n",
              "      <td>1366x768</td>\n",
              "      <td>Windows 10</td>\n",
              "      <td>2.2 kg</td>\n",
              "      <td>Dolby Audio</td>\n",
              "      <td>1 year</td>\n",
              "      <td>5 hours</td>\n",
              "      <td>25,000</td>\n",
              "      <td>The Lenovo IdeaPad is a versatile laptop that ...</td>\n",
              "    </tr>\n",
              "    <tr>\n",
              "      <th>4</th>\n",
              "      <td>ASUS</td>\n",
              "      <td>ZenBook Pro</td>\n",
              "      <td>i9</td>\n",
              "      <td>Intel</td>\n",
              "      <td>3.1 GHz</td>\n",
              "      <td>64GB</td>\n",
              "      <td>SSD</td>\n",
              "      <td>OLED</td>\n",
              "      <td>15.6\"</td>\n",
              "      <td>NVIDIA RTX</td>\n",
              "      <td>3840x2160</td>\n",
              "      <td>Windows 10</td>\n",
              "      <td>1.8 kg</td>\n",
              "      <td>NanoEdge Display</td>\n",
              "      <td>2 years</td>\n",
              "      <td>7 hours</td>\n",
              "      <td>200,000</td>\n",
              "      <td>The ASUS ZenBook Pro is a high-end laptop that...</td>\n",
              "    </tr>\n",
              "  </tbody>\n",
              "</table>\n",
              "</div>\n",
              "    <div class=\"colab-df-buttons\">\n",
              "\n",
              "  <div class=\"colab-df-container\">\n",
              "    <button class=\"colab-df-convert\" onclick=\"convertToInteractive('df-a75d2192-e9ee-4346-8b29-9a971947ec0b')\"\n",
              "            title=\"Convert this dataframe to an interactive table.\"\n",
              "            style=\"display:none;\">\n",
              "\n",
              "  <svg xmlns=\"http://www.w3.org/2000/svg\" height=\"24px\" viewBox=\"0 -960 960 960\">\n",
              "    <path d=\"M120-120v-720h720v720H120Zm60-500h600v-160H180v160Zm220 220h160v-160H400v160Zm0 220h160v-160H400v160ZM180-400h160v-160H180v160Zm440 0h160v-160H620v160ZM180-180h160v-160H180v160Zm440 0h160v-160H620v160Z\"/>\n",
              "  </svg>\n",
              "    </button>\n",
              "\n",
              "  <style>\n",
              "    .colab-df-container {\n",
              "      display:flex;\n",
              "      gap: 12px;\n",
              "    }\n",
              "\n",
              "    .colab-df-convert {\n",
              "      background-color: #E8F0FE;\n",
              "      border: none;\n",
              "      border-radius: 50%;\n",
              "      cursor: pointer;\n",
              "      display: none;\n",
              "      fill: #1967D2;\n",
              "      height: 32px;\n",
              "      padding: 0 0 0 0;\n",
              "      width: 32px;\n",
              "    }\n",
              "\n",
              "    .colab-df-convert:hover {\n",
              "      background-color: #E2EBFA;\n",
              "      box-shadow: 0px 1px 2px rgba(60, 64, 67, 0.3), 0px 1px 3px 1px rgba(60, 64, 67, 0.15);\n",
              "      fill: #174EA6;\n",
              "    }\n",
              "\n",
              "    .colab-df-buttons div {\n",
              "      margin-bottom: 4px;\n",
              "    }\n",
              "\n",
              "    [theme=dark] .colab-df-convert {\n",
              "      background-color: #3B4455;\n",
              "      fill: #D2E3FC;\n",
              "    }\n",
              "\n",
              "    [theme=dark] .colab-df-convert:hover {\n",
              "      background-color: #434B5C;\n",
              "      box-shadow: 0px 1px 3px 1px rgba(0, 0, 0, 0.15);\n",
              "      filter: drop-shadow(0px 1px 2px rgba(0, 0, 0, 0.3));\n",
              "      fill: #FFFFFF;\n",
              "    }\n",
              "  </style>\n",
              "\n",
              "    <script>\n",
              "      const buttonEl =\n",
              "        document.querySelector('#df-a75d2192-e9ee-4346-8b29-9a971947ec0b button.colab-df-convert');\n",
              "      buttonEl.style.display =\n",
              "        google.colab.kernel.accessAllowed ? 'block' : 'none';\n",
              "\n",
              "      async function convertToInteractive(key) {\n",
              "        const element = document.querySelector('#df-a75d2192-e9ee-4346-8b29-9a971947ec0b');\n",
              "        const dataTable =\n",
              "          await google.colab.kernel.invokeFunction('convertToInteractive',\n",
              "                                                    [key], {});\n",
              "        if (!dataTable) return;\n",
              "\n",
              "        const docLinkHtml = 'Like what you see? Visit the ' +\n",
              "          '<a target=\"_blank\" href=https://colab.research.google.com/notebooks/data_table.ipynb>data table notebook</a>'\n",
              "          + ' to learn more about interactive tables.';\n",
              "        element.innerHTML = '';\n",
              "        dataTable['output_type'] = 'display_data';\n",
              "        await google.colab.output.renderOutput(dataTable, element);\n",
              "        const docLink = document.createElement('div');\n",
              "        docLink.innerHTML = docLinkHtml;\n",
              "        element.appendChild(docLink);\n",
              "      }\n",
              "    </script>\n",
              "  </div>\n",
              "\n",
              "\n",
              "<div id=\"df-412a0cca-1565-48a5-a3c2-f5e87e37a55e\">\n",
              "  <button class=\"colab-df-quickchart\" onclick=\"quickchart('df-412a0cca-1565-48a5-a3c2-f5e87e37a55e')\"\n",
              "            title=\"Suggest charts\"\n",
              "            style=\"display:none;\">\n",
              "\n",
              "<svg xmlns=\"http://www.w3.org/2000/svg\" height=\"24px\"viewBox=\"0 0 24 24\"\n",
              "     width=\"24px\">\n",
              "    <g>\n",
              "        <path d=\"M19 3H5c-1.1 0-2 .9-2 2v14c0 1.1.9 2 2 2h14c1.1 0 2-.9 2-2V5c0-1.1-.9-2-2-2zM9 17H7v-7h2v7zm4 0h-2V7h2v10zm4 0h-2v-4h2v4z\"/>\n",
              "    </g>\n",
              "</svg>\n",
              "  </button>\n",
              "\n",
              "<style>\n",
              "  .colab-df-quickchart {\n",
              "      --bg-color: #E8F0FE;\n",
              "      --fill-color: #1967D2;\n",
              "      --hover-bg-color: #E2EBFA;\n",
              "      --hover-fill-color: #174EA6;\n",
              "      --disabled-fill-color: #AAA;\n",
              "      --disabled-bg-color: #DDD;\n",
              "  }\n",
              "\n",
              "  [theme=dark] .colab-df-quickchart {\n",
              "      --bg-color: #3B4455;\n",
              "      --fill-color: #D2E3FC;\n",
              "      --hover-bg-color: #434B5C;\n",
              "      --hover-fill-color: #FFFFFF;\n",
              "      --disabled-bg-color: #3B4455;\n",
              "      --disabled-fill-color: #666;\n",
              "  }\n",
              "\n",
              "  .colab-df-quickchart {\n",
              "    background-color: var(--bg-color);\n",
              "    border: none;\n",
              "    border-radius: 50%;\n",
              "    cursor: pointer;\n",
              "    display: none;\n",
              "    fill: var(--fill-color);\n",
              "    height: 32px;\n",
              "    padding: 0;\n",
              "    width: 32px;\n",
              "  }\n",
              "\n",
              "  .colab-df-quickchart:hover {\n",
              "    background-color: var(--hover-bg-color);\n",
              "    box-shadow: 0 1px 2px rgba(60, 64, 67, 0.3), 0 1px 3px 1px rgba(60, 64, 67, 0.15);\n",
              "    fill: var(--button-hover-fill-color);\n",
              "  }\n",
              "\n",
              "  .colab-df-quickchart-complete:disabled,\n",
              "  .colab-df-quickchart-complete:disabled:hover {\n",
              "    background-color: var(--disabled-bg-color);\n",
              "    fill: var(--disabled-fill-color);\n",
              "    box-shadow: none;\n",
              "  }\n",
              "\n",
              "  .colab-df-spinner {\n",
              "    border: 2px solid var(--fill-color);\n",
              "    border-color: transparent;\n",
              "    border-bottom-color: var(--fill-color);\n",
              "    animation:\n",
              "      spin 1s steps(1) infinite;\n",
              "  }\n",
              "\n",
              "  @keyframes spin {\n",
              "    0% {\n",
              "      border-color: transparent;\n",
              "      border-bottom-color: var(--fill-color);\n",
              "      border-left-color: var(--fill-color);\n",
              "    }\n",
              "    20% {\n",
              "      border-color: transparent;\n",
              "      border-left-color: var(--fill-color);\n",
              "      border-top-color: var(--fill-color);\n",
              "    }\n",
              "    30% {\n",
              "      border-color: transparent;\n",
              "      border-left-color: var(--fill-color);\n",
              "      border-top-color: var(--fill-color);\n",
              "      border-right-color: var(--fill-color);\n",
              "    }\n",
              "    40% {\n",
              "      border-color: transparent;\n",
              "      border-right-color: var(--fill-color);\n",
              "      border-top-color: var(--fill-color);\n",
              "    }\n",
              "    60% {\n",
              "      border-color: transparent;\n",
              "      border-right-color: var(--fill-color);\n",
              "    }\n",
              "    80% {\n",
              "      border-color: transparent;\n",
              "      border-right-color: var(--fill-color);\n",
              "      border-bottom-color: var(--fill-color);\n",
              "    }\n",
              "    90% {\n",
              "      border-color: transparent;\n",
              "      border-bottom-color: var(--fill-color);\n",
              "    }\n",
              "  }\n",
              "</style>\n",
              "\n",
              "  <script>\n",
              "    async function quickchart(key) {\n",
              "      const quickchartButtonEl =\n",
              "        document.querySelector('#' + key + ' button');\n",
              "      quickchartButtonEl.disabled = true;  // To prevent multiple clicks.\n",
              "      quickchartButtonEl.classList.add('colab-df-spinner');\n",
              "      try {\n",
              "        const charts = await google.colab.kernel.invokeFunction(\n",
              "            'suggestCharts', [key], {});\n",
              "      } catch (error) {\n",
              "        console.error('Error during call to suggestCharts:', error);\n",
              "      }\n",
              "      quickchartButtonEl.classList.remove('colab-df-spinner');\n",
              "      quickchartButtonEl.classList.add('colab-df-quickchart-complete');\n",
              "    }\n",
              "    (() => {\n",
              "      let quickchartButtonEl =\n",
              "        document.querySelector('#df-412a0cca-1565-48a5-a3c2-f5e87e37a55e button');\n",
              "      quickchartButtonEl.style.display =\n",
              "        google.colab.kernel.accessAllowed ? 'block' : 'none';\n",
              "    })();\n",
              "  </script>\n",
              "</div>\n",
              "\n",
              "    </div>\n",
              "  </div>\n"
            ],
            "application/vnd.google.colaboratory.intrinsic+json": {
              "type": "dataframe",
              "variable_name": "laptop_data",
              "summary": "{\n  \"name\": \"laptop_data\",\n  \"rows\": 20,\n  \"fields\": [\n    {\n      \"column\": \"Brand\",\n      \"properties\": {\n        \"dtype\": \"category\",\n        \"num_unique_values\": 9,\n        \"samples\": [\n          \"Apple\",\n          \"MSI\",\n          \"Acer\"\n        ],\n        \"semantic_type\": \"\",\n        \"description\": \"\"\n      }\n    },\n    {\n      \"column\": \"Model Name\",\n      \"properties\": {\n        \"dtype\": \"string\",\n        \"num_unique_values\": 20,\n        \"samples\": [\n          \"Inspiron\",\n          \"ENVY x360\",\n          \"ZenBook 13\"\n        ],\n        \"semantic_type\": \"\",\n        \"description\": \"\"\n      }\n    },\n    {\n      \"column\": \"Core\",\n      \"properties\": {\n        \"dtype\": \"category\",\n        \"num_unique_values\": 8,\n        \"samples\": [\n          \"i7\",\n          \"Ryzen 5\",\n          \"i5\"\n        ],\n        \"semantic_type\": \"\",\n        \"description\": \"\"\n      }\n    },\n    {\n      \"column\": \"CPU Manufacturer\",\n      \"properties\": {\n        \"dtype\": \"category\",\n        \"num_unique_values\": 3,\n        \"samples\": [\n          \"Intel\",\n          \"AMD\",\n          \"Apple\"\n        ],\n        \"semantic_type\": \"\",\n        \"description\": \"\"\n      }\n    },\n    {\n      \"column\": \"Clock Speed\",\n      \"properties\": {\n        \"dtype\": \"string\",\n        \"num_unique_values\": 10,\n        \"samples\": [\n          \"2.9 GHz\",\n          \"2.6 GHz\",\n          \"1.6 GHz\"\n        ],\n        \"semantic_type\": \"\",\n        \"description\": \"\"\n      }\n    },\n    {\n      \"column\": \"RAM Size\",\n      \"properties\": {\n        \"dtype\": \"category\",\n        \"num_unique_values\": 5,\n        \"samples\": [\n          \"16GB\",\n          \"32GB\",\n          \"64GB\"\n        ],\n        \"semantic_type\": \"\",\n        \"description\": \"\"\n      }\n    },\n    {\n      \"column\": \"Storage Type\",\n      \"properties\": {\n        \"dtype\": \"category\",\n        \"num_unique_values\": 3,\n        \"samples\": [\n          \"SSD\",\n          \"HDD+SSD\",\n          \"HDD\"\n        ],\n        \"semantic_type\": \"\",\n        \"description\": \"\"\n      }\n    },\n    {\n      \"column\": \"Display Type\",\n      \"properties\": {\n        \"dtype\": \"category\",\n        \"num_unique_values\": 8,\n        \"samples\": [\n          \"IPS\",\n          \"PixelSense\",\n          \"LCD\"\n        ],\n        \"semantic_type\": \"\",\n        \"description\": \"\"\n      }\n    },\n    {\n      \"column\": \"Display Size\",\n      \"properties\": {\n        \"dtype\": \"category\",\n        \"num_unique_values\": 6,\n        \"samples\": [\n          \"15.6\\\"\",\n          \"14\\\"\",\n          \"16\\\"\"\n        ],\n        \"semantic_type\": \"\",\n        \"description\": \"\"\n      }\n    },\n    {\n      \"column\": \"Graphics Processor\",\n      \"properties\": {\n        \"dtype\": \"category\",\n        \"num_unique_values\": 8,\n        \"samples\": [\n          \"NVIDIA GTX\",\n          \"Apple M1\",\n          \"Intel UHD\"\n        ],\n        \"semantic_type\": \"\",\n        \"description\": \"\"\n      }\n    },\n    {\n      \"column\": \"Screen Resolution\",\n      \"properties\": {\n        \"dtype\": \"category\",\n        \"num_unique_values\": 7,\n        \"samples\": [\n          \"1920x1080\",\n          \"1366x768\",\n          \"2560x1600\"\n        ],\n        \"semantic_type\": \"\",\n        \"description\": \"\"\n      }\n    },\n    {\n      \"column\": \"OS\",\n      \"properties\": {\n        \"dtype\": \"category\",\n        \"num_unique_values\": 5,\n        \"samples\": [\n          \"Windows 11\",\n          \"Ubuntu\",\n          \"Linux\"\n        ],\n        \"semantic_type\": \"\",\n        \"description\": \"\"\n      }\n    },\n    {\n      \"column\": \"Laptop Weight\",\n      \"properties\": {\n        \"dtype\": \"string\",\n        \"num_unique_values\": 18,\n        \"samples\": [\n          \"2.5 kg\",\n          \"2.3 kg\",\n          \"2.1 kg\"\n        ],\n        \"semantic_type\": \"\",\n        \"description\": \"\"\n      }\n    },\n    {\n      \"column\": \"Special Features\",\n      \"properties\": {\n        \"dtype\": \"string\",\n        \"num_unique_values\": 19,\n        \"samples\": [\n          \"Backlit Keyboard\",\n          \"Dual Cooling Fans\",\n          \"Fingerprint Reader\"\n        ],\n        \"semantic_type\": \"\",\n        \"description\": \"\"\n      }\n    },\n    {\n      \"column\": \"Warranty\",\n      \"properties\": {\n        \"dtype\": \"category\",\n        \"num_unique_values\": 3,\n        \"samples\": [\n          \"1 year\",\n          \"2 years\",\n          \"3 years\"\n        ],\n        \"semantic_type\": \"\",\n        \"description\": \"\"\n      }\n    },\n    {\n      \"column\": \"Average Battery Life\",\n      \"properties\": {\n        \"dtype\": \"string\",\n        \"num_unique_values\": 10,\n        \"samples\": [\n          \"14 hours\",\n          \"4 hours\",\n          \"10 hours\"\n        ],\n        \"semantic_type\": \"\",\n        \"description\": \"\"\n      }\n    },\n    {\n      \"column\": \"Price\",\n      \"properties\": {\n        \"dtype\": \"string\",\n        \"num_unique_values\": 18,\n        \"samples\": [\n          \"35,000\",\n          \"55,000\",\n          \"85,000\"\n        ],\n        \"semantic_type\": \"\",\n        \"description\": \"\"\n      }\n    },\n    {\n      \"column\": \"Description\",\n      \"properties\": {\n        \"dtype\": \"string\",\n        \"num_unique_values\": 20,\n        \"samples\": [\n          \"The Dell Inspiron is a versatile laptop that combines powerful performance and affordability. It features an Intel Core i5 processor clocked at 2.4 GHz, ensuring smooth multitasking and efficient computing. With 8GB of RAM and an SSD, it offers quick data access and ample storage capacity. The laptop sports a vibrant 15.6\\\" LCD display with a resolution of 1920x1080, delivering crisp visuals and immersive viewing experience. Weighing just 2.5 kg, it is highly portable, making it ideal for on-the-go usage. Additionally, it boasts an Intel UHD GPU for decent graphical performance and a backlit keyboard for enhanced typing convenience. With a one-year warranty and a battery life of up to 6 hours, the Dell Inspiron is a reliable companion for work or entertainment. All these features are packed at an affordable price of 35,000, making it an excellent choice for budget-conscious users.\",\n          \"The HP ENVY x360 is a versatile 2-in-1 convertible laptop that combines performance and flexibility. It features an Intel Core i7 processor running at 2.8 GHz, providing powerful processing capabilities for multitasking and productivity. With 16GB of RAM and an SSD, it offers fast and efficient performance along with ample storage space. The laptop features a 15.6\\\" IPS display with a resolution of 1920x1080, delivering vibrant visuals and wide viewing angles. It comes with Intel Iris Xe integrated graphics for smooth graphics performance. Weighing 2.05 kg, it offers a good balance between portability and functionality. The laptop features a convertible design, allowing you to switch between laptop and tablet modes for enhanced versatility. With a one-year warranty and a battery life of up to 7 hours, the HP ENVY x360 offers reliability and endurance for everyday use. Priced at 80,000, it provides a versatile computing experience at an affordable price point.\",\n          \"The ASUS ZenBook 13 is a lightweight and powerful laptop that offers a premium computing experience. It is equipped with an Intel Core i7 processor running at 2.8 GHz, providing strong processing power for multitasking and productivity. With 16GB of RAM and an SSD, it offers fast and responsive performance along with ample storage capacity. The laptop features a 13.3\\\" NanoEdge display with a resolution of 1920x1080, delivering crisp visuals and immersive viewing. It comes with Intel Iris Xe integrated graphics for smooth graphics performance. Weighing just 1.11 kg, it is incredibly lightweight and highly portable. The laptop features military-grade durability, ensuring durability and reliability. With a two-year warranty and an impressive battery life of up to 11 hours, the ASUS ZenBook 13 offers long-lasting performance and endurance. Priced at 95,000, it provides a premium experience for users seeking a powerful and lightweight laptop.\"\n        ],\n        \"semantic_type\": \"\",\n        \"description\": \"\"\n      }\n    }\n  ]\n}"
            }
          },
          "metadata": {},
          "execution_count": 24
        }
      ]
    },
    {
      "cell_type": "code",
      "source": [
        "# Display the first few rows of the dataset to understand the structure\n",
        "print(\"Laptop Data Overview:\")\n",
        "print(laptop_data.head())"
      ],
      "metadata": {
        "colab": {
          "base_uri": "https://localhost:8080/"
        },
        "id": "nO4VFrXIlIL7",
        "outputId": "06bd8c50-578d-44a2-8863-d1b3c9abeccc"
      },
      "execution_count": null,
      "outputs": [
        {
          "output_type": "stream",
          "name": "stdout",
          "text": [
            "Laptop Data Overview:\n",
            "    Brand   Model Name Core CPU Manufacturer Clock Speed RAM Size  \\\n",
            "0    Dell     Inspiron   i5            Intel     2.4 GHz      8GB   \n",
            "1     MSI         GL65   i7            Intel     2.6 GHz     16GB   \n",
            "2      HP    EliteBook   i7            Intel     2.8 GHz     16GB   \n",
            "3  Lenovo      IdeaPad   i3            Intel     2.1 GHz      8GB   \n",
            "4    ASUS  ZenBook Pro   i9            Intel     3.1 GHz     64GB   \n",
            "\n",
            "  Storage Type Display Type Display Size Graphics Processor Screen Resolution  \\\n",
            "0          SSD          LCD        15.6\"          Intel UHD         1920x1080   \n",
            "1      HDD+SSD          IPS        15.6\"         NVIDIA GTX         1920x1080   \n",
            "2          SSD          LED          14\"          Intel UHD         1920x1080   \n",
            "3          HDD           TN        15.6\"          Intel UHD          1366x768   \n",
            "4          SSD         OLED        15.6\"         NVIDIA RTX         3840x2160   \n",
            "\n",
            "           OS Laptop Weight    Special Features Warranty Average Battery Life  \\\n",
            "0  Windows 10        2.5 kg    Backlit Keyboard   1 year              6 hours   \n",
            "1  Windows 10        2.3 kg        RGB Keyboard  2 years              4 hours   \n",
            "2  Windows 11        1.5 kg  Fingerprint Sensor  3 years              8 hours   \n",
            "3  Windows 10        2.2 kg         Dolby Audio   1 year              5 hours   \n",
            "4  Windows 10        1.8 kg    NanoEdge Display  2 years              7 hours   \n",
            "\n",
            "     Price                                        Description  \n",
            "0   35,000  The Dell Inspiron is a versatile laptop that c...  \n",
            "1   55,000  The MSI GL65 is a high-performance laptop desi...  \n",
            "2   90,000  The HP EliteBook is a premium laptop designed ...  \n",
            "3   25,000  The Lenovo IdeaPad is a versatile laptop that ...  \n",
            "4  200,000  The ASUS ZenBook Pro is a high-end laptop that...  \n"
          ]
        }
      ]
    },
    {
      "cell_type": "code",
      "source": [
        "# Basic statistics to understand numerical columns\n",
        "print(\"\\nLaptop Data Statistics:\")\n",
        "print(laptop_data.describe())"
      ],
      "metadata": {
        "colab": {
          "base_uri": "https://localhost:8080/"
        },
        "id": "kedGEAWrlIrH",
        "outputId": "8c234e62-499c-4753-9380-7b846ee4241a"
      },
      "execution_count": null,
      "outputs": [
        {
          "output_type": "stream",
          "name": "stdout",
          "text": [
            "\n",
            "Laptop Data Statistics:\n",
            "       Brand Model Name Core CPU Manufacturer Clock Speed RAM Size  \\\n",
            "count     20         20   20               20          20       20   \n",
            "unique     9         20    8                3          10        5   \n",
            "top     Dell   Inspiron   i7            Intel     2.8 GHz     16GB   \n",
            "freq       3          1    8               17           5       11   \n",
            "\n",
            "       Storage Type Display Type Display Size Graphics Processor  \\\n",
            "count            20           20           20                 20   \n",
            "unique            3            8            6                  8   \n",
            "top             SSD          IPS        15.6\"          Intel UHD   \n",
            "freq             17            9            9                  5   \n",
            "\n",
            "       Screen Resolution          OS Laptop Weight  Special Features Warranty  \\\n",
            "count                 20          20            20                20       20   \n",
            "unique                 7           5            18                19        3   \n",
            "top            1920x1080  Windows 10        1.8 kg  Backlit Keyboard   1 year   \n",
            "freq                  10          10             2                 2        8   \n",
            "\n",
            "       Average Battery Life   Price  \\\n",
            "count                    20      20   \n",
            "unique                   10      18   \n",
            "top                 6 hours  90,000   \n",
            "freq                      4       2   \n",
            "\n",
            "                                              Description  \n",
            "count                                                  20  \n",
            "unique                                                 20  \n",
            "top     The Dell Inspiron is a versatile laptop that c...  \n",
            "freq                                                    1  \n"
          ]
        }
      ]
    },
    {
      "cell_type": "code",
      "source": [
        "# Check for missing values\n",
        "print(\"\\nMissing Values in Laptop Data:\")\n",
        "print(laptop_data.isnull().sum())"
      ],
      "metadata": {
        "colab": {
          "base_uri": "https://localhost:8080/"
        },
        "id": "ixF7mYlzlKp4",
        "outputId": "019f9121-86af-4abb-b343-8d7f2e54bcd0"
      },
      "execution_count": null,
      "outputs": [
        {
          "output_type": "stream",
          "name": "stdout",
          "text": [
            "\n",
            "Missing Values in Laptop Data:\n",
            "Brand                   0\n",
            "Model Name              0\n",
            "Core                    0\n",
            "CPU Manufacturer        0\n",
            "Clock Speed             0\n",
            "RAM Size                0\n",
            "Storage Type            0\n",
            "Display Type            0\n",
            "Display Size            0\n",
            "Graphics Processor      0\n",
            "Screen Resolution       0\n",
            "OS                      0\n",
            "Laptop Weight           0\n",
            "Special Features        0\n",
            "Warranty                0\n",
            "Average Battery Life    0\n",
            "Price                   0\n",
            "Description             0\n",
            "dtype: int64\n"
          ]
        }
      ]
    },
    {
      "cell_type": "code",
      "source": [
        "print(laptop_data.dtypes)"
      ],
      "metadata": {
        "colab": {
          "base_uri": "https://localhost:8080/"
        },
        "id": "h5FySHa5lO6d",
        "outputId": "07ff2fe1-4a76-499f-aad8-9f1f312b6b1d"
      },
      "execution_count": null,
      "outputs": [
        {
          "output_type": "stream",
          "name": "stdout",
          "text": [
            "Brand                   object\n",
            "Model Name              object\n",
            "Core                    object\n",
            "CPU Manufacturer        object\n",
            "Clock Speed             object\n",
            "RAM Size                object\n",
            "Storage Type            object\n",
            "Display Type            object\n",
            "Display Size            object\n",
            "Graphics Processor      object\n",
            "Screen Resolution       object\n",
            "OS                      object\n",
            "Laptop Weight           object\n",
            "Special Features        object\n",
            "Warranty                object\n",
            "Average Battery Life    object\n",
            "Price                   object\n",
            "Description             object\n",
            "dtype: object\n"
          ]
        }
      ]
    },
    {
      "cell_type": "code",
      "source": [
        "# Fill missing values with an empty string to avoid issues during tokenization\n",
        "laptop_data.fillna('', inplace=True)"
      ],
      "metadata": {
        "id": "_cqdruSjlMn6"
      },
      "execution_count": null,
      "outputs": []
    },
    {
      "cell_type": "code",
      "source": [
        "# Combine the brand and description into a single text column for tokenization\n",
        "laptop_data['text'] = laptop_data['Brand'] + ' ' + laptop_data['Model Name'] + ' ' +  laptop_data['Description']"
      ],
      "metadata": {
        "id": "U5iBlRvMlbH4"
      },
      "execution_count": null,
      "outputs": []
    },
    {
      "cell_type": "code",
      "source": [
        "# Check the new 'text' column\n",
        "print(\"\\nLaptop Data Text Feature:\")\n",
        "print(laptop_data['text'].head())"
      ],
      "metadata": {
        "colab": {
          "base_uri": "https://localhost:8080/"
        },
        "id": "AOVx70kBlcaS",
        "outputId": "be0a3edd-b963-4f08-d377-1663caab714e"
      },
      "execution_count": null,
      "outputs": [
        {
          "output_type": "stream",
          "name": "stdout",
          "text": [
            "\n",
            "Laptop Data Text Feature:\n",
            "0    Dell Inspiron The Dell Inspiron is a versatile...\n",
            "1    MSI GL65 The MSI GL65 is a high-performance la...\n",
            "2    HP EliteBook The HP EliteBook is a premium lap...\n",
            "3    Lenovo IdeaPad The Lenovo IdeaPad is a versati...\n",
            "4    ASUS ZenBook Pro The ASUS ZenBook Pro is a hig...\n",
            "Name: text, dtype: object\n"
          ]
        }
      ]
    },
    {
      "cell_type": "markdown",
      "source": [
        "## Feature Engineering with Hugging Face LLM"
      ],
      "metadata": {
        "id": "BOkkAQHWlmxH"
      }
    },
    {
      "cell_type": "code",
      "source": [
        "# Load the tokenizer and model from Hugging Face\n",
        "tokenizer = AutoTokenizer.from_pretrained('sentence-transformers/all-MiniLM-L6-v2')\n",
        "model = AutoModel.from_pretrained('sentence-transformers/all-MiniLM-L6-v2')"
      ],
      "metadata": {
        "colab": {
          "base_uri": "https://localhost:8080/"
        },
        "id": "wqpQQmPKleg0",
        "outputId": "e641d960-63f7-460e-9cb4-b1da74a6974f"
      },
      "execution_count": null,
      "outputs": [
        {
          "output_type": "stream",
          "name": "stderr",
          "text": [
            "/usr/local/lib/python3.10/dist-packages/transformers/tokenization_utils_base.py:1601: FutureWarning: `clean_up_tokenization_spaces` was not set. It will be set to `True` by default. This behavior will be depracted in transformers v4.45, and will be then set to `False` by default. For more details check this issue: https://github.com/huggingface/transformers/issues/31884\n",
            "  warnings.warn(\n"
          ]
        }
      ]
    },
    {
      "cell_type": "code",
      "source": [
        "# Function to create embeddings for the text data\n",
        "def get_embeddings(text):\n",
        "    inputs = tokenizer(text, return_tensors=\"pt\", padding=True, truncation=True, max_length=128)\n",
        "    with torch.no_grad():\n",
        "        outputs = model(**inputs)\n",
        "    return outputs.last_hidden_state.mean(dim=1).numpy()"
      ],
      "metadata": {
        "id": "ji71Hc0IlkCo"
      },
      "execution_count": null,
      "outputs": []
    },
    {
      "cell_type": "code",
      "source": [
        "# Apply embedding generation to the dataset\n",
        "laptop_data['embeddings'] = laptop_data['text'].apply(lambda x: get_embeddings(x))"
      ],
      "metadata": {
        "id": "siBBzN9clu8e"
      },
      "execution_count": null,
      "outputs": []
    },
    {
      "cell_type": "code",
      "source": [
        "# Check the embeddings for the first product\n",
        "print(\"\\nLaptop Data Embeddings (first product):\")\n",
        "print(laptop_data['embeddings'].iloc[0])\n"
      ],
      "metadata": {
        "colab": {
          "base_uri": "https://localhost:8080/"
        },
        "id": "TuXrU52UlxOv",
        "outputId": "692fda65-1260-411c-e43d-dea903e9bd0e"
      },
      "execution_count": null,
      "outputs": [
        {
          "output_type": "stream",
          "name": "stdout",
          "text": [
            "\n",
            "Laptop Data Embeddings (first product):\n",
            "[[-1.15857989e-01  1.64844379e-01 -2.00943891e-02  6.97854161e-02\n",
            "   9.24687833e-02 -1.13538936e-01  2.84679537e-03  1.49879307e-01\n",
            "   1.12662531e-01  2.06302553e-02  1.04948461e-01 -6.58793561e-03\n",
            "   3.27110477e-03  7.23243803e-02  8.80477130e-02  6.34213239e-02\n",
            "   1.76339149e-01 -2.23702937e-01  2.61930656e-02 -1.10580720e-01\n",
            "  -1.28620118e-02 -5.88487722e-02 -1.52060211e-01  6.85454756e-02\n",
            "   1.07151516e-01  1.07430629e-02  4.56405655e-02  9.47704073e-04\n",
            "  -2.11198464e-01 -2.31197011e-02 -7.13143125e-02  8.36236775e-03\n",
            "  -7.97853153e-03 -7.89451078e-02 -1.19757786e-01  2.79038921e-02\n",
            "   1.15992635e-01 -8.35279524e-02  4.74919304e-02 -2.21115559e-01\n",
            "  -2.75090914e-02 -2.55886950e-02  1.24985032e-01  5.36295176e-02\n",
            "   1.76145852e-01 -1.94689080e-01 -8.08203444e-02  8.98369402e-02\n",
            "  -7.68470466e-02 -3.82472351e-02 -8.62914622e-02  1.30736277e-01\n",
            "  -4.54680584e-02  1.14184596e-01 -1.11450270e-01  9.27258283e-02\n",
            "   9.50029641e-02 -9.73976869e-03 -2.16179639e-02  4.48351130e-02\n",
            "   1.60469815e-01 -5.12119457e-02  7.64712691e-02  4.42470871e-02\n",
            "  -2.89447382e-02 -1.05937950e-01 -1.49955060e-02 -1.52752057e-01\n",
            "  -4.85406741e-02  8.61181989e-02  9.57311317e-02  7.26113375e-03\n",
            "  -1.09763049e-01  5.30435778e-02 -4.00326997e-02 -2.11580724e-01\n",
            "   3.81197110e-02 -2.08837301e-01  9.30032283e-02  1.54083878e-01\n",
            "  -9.60658491e-02  9.15837735e-02  3.63349430e-02  1.37000918e-01\n",
            "   7.19588995e-02 -1.15094975e-01 -5.60032576e-02  9.70279649e-02\n",
            "  -1.13317646e-01 -2.34634757e-01  7.54327998e-02  1.14533812e-01\n",
            "  -2.22300097e-01 -1.09750278e-01 -1.76696219e-02 -2.53009163e-02\n",
            "  -9.29024909e-03 -1.01883031e-01 -7.76864439e-02  1.76058523e-02\n",
            "   1.33028895e-01  2.80900262e-02  1.38767153e-01 -8.97806585e-02\n",
            "  -8.59738216e-02 -1.28566355e-01  2.35315099e-01  1.31155867e-02\n",
            "  -5.84769025e-02 -5.94547763e-03 -5.38744926e-02 -7.67708644e-02\n",
            "  -8.71237218e-02  7.57203549e-02  3.85223292e-02 -2.41200719e-02\n",
            "  -6.52752966e-02  8.90998319e-02  1.70984834e-01  1.07922554e-01\n",
            "  -1.16314255e-01 -1.53922988e-02 -6.00630939e-02 -2.34000757e-02\n",
            "  -1.01977892e-01  1.20827798e-02 -1.77355781e-01  6.93054718e-33\n",
            "  -2.77947541e-02  8.71590376e-02 -5.76592758e-02 -6.38268963e-02\n",
            "  -6.05537109e-02  9.64146703e-02  1.73141696e-02 -1.74442127e-01\n",
            "  -8.75037611e-02  7.56447315e-02 -9.58056152e-02 -7.56265819e-02\n",
            "  -1.27745733e-01  9.88939553e-02  2.25997537e-01 -1.91380665e-01\n",
            "   9.95919202e-03  2.86162831e-02 -1.77128762e-02  1.45409210e-02\n",
            "   1.78171679e-01 -4.67232019e-02 -6.35882616e-02 -1.57616451e-01\n",
            "   1.41537517e-01  1.47275534e-03  5.23546413e-02  1.21226467e-01\n",
            "  -3.77889872e-02  5.50014433e-03 -8.71825777e-03  1.96177699e-03\n",
            "  -1.09988280e-01 -2.34599009e-01  9.03702453e-02 -1.87650070e-01\n",
            "   1.58151612e-04 -2.72008050e-02  1.69517785e-01 -1.37561038e-01\n",
            "  -1.05021931e-01  2.65812695e-01  8.08631554e-02  4.55057286e-02\n",
            "  -8.52900557e-03  1.56334683e-01 -2.32018195e-02  1.40442327e-01\n",
            "   9.63311940e-02 -6.75658882e-02 -1.10204786e-01  8.89412835e-02\n",
            "   3.40877436e-02 -5.40946946e-02 -1.15462676e-01  1.48327217e-01\n",
            "   2.23426074e-01  8.73904973e-02  1.65435880e-01  3.19241285e-01\n",
            "   1.97347477e-02  3.80755439e-02 -1.94973245e-01  4.19086255e-02\n",
            "  -2.16802135e-02  1.24450728e-01  1.41644374e-01  2.39450470e-01\n",
            "  -2.75186114e-02  9.02444720e-02  1.73400575e-03 -2.39113301e-01\n",
            "   1.64800406e-01 -8.76302272e-02  8.48368257e-02  7.74362125e-03\n",
            "  -1.54005572e-01 -1.43164828e-01 -1.44248977e-01  2.82314215e-02\n",
            "  -8.28024894e-02 -2.18394771e-01  1.28186792e-01 -5.48738874e-02\n",
            "  -3.34874168e-03  5.92984594e-02 -1.29550010e-01 -6.07321337e-02\n",
            "   3.27089578e-02  2.99549531e-02  1.76621139e-01 -1.05455332e-03\n",
            "  -3.27562019e-02  2.34665740e-02 -1.19545899e-01 -8.19293261e-33\n",
            "   5.44542409e-02 -1.44570053e-01  9.68155917e-03  4.04434800e-02\n",
            "   8.16705748e-02 -1.41134905e-03 -1.05379567e-01  7.09407628e-02\n",
            "  -9.19403881e-02  1.41375914e-01 -4.61874045e-02  1.07778929e-01\n",
            "  -6.16799183e-02  1.33531481e-01  8.17743242e-02  1.49541050e-01\n",
            "  -5.85941486e-02 -1.72038555e-01  1.55394003e-01 -8.81495774e-02\n",
            "  -1.16094597e-01 -1.01243332e-01 -2.49093771e-03 -1.32101506e-01\n",
            "  -1.20089799e-01  1.31249242e-02 -9.24269930e-02 -1.15431517e-01\n",
            "   5.90519421e-02 -5.55004627e-02 -1.04283631e-01 -3.00241798e-01\n",
            "   1.02147341e-01  2.71065608e-02  1.96060330e-01 -2.18420684e-01\n",
            "   9.99356955e-02 -1.76606998e-01 -5.13132066e-02  7.74952844e-02\n",
            "   1.46066770e-01  1.98783562e-01  4.84474413e-02  7.99925029e-02\n",
            "   1.80665359e-01  8.16250145e-02 -1.50931656e-01 -1.60311043e-01\n",
            "  -4.84896973e-02 -3.16973031e-03  2.28473637e-02 -7.56908581e-03\n",
            "   5.95041215e-02 -1.09877521e-02 -7.27022216e-02 -3.61706138e-01\n",
            "  -1.42264485e-01  2.89618760e-01  8.15161988e-02 -8.09731334e-02\n",
            "   5.23950830e-02  1.57157853e-02 -3.38697731e-02  3.66339125e-02\n",
            "   1.65758096e-02 -5.24926856e-02  6.14413545e-02  4.03412282e-02\n",
            "  -4.90506403e-02 -1.68130308e-01 -1.51384085e-01 -2.18187705e-01\n",
            "  -4.88978531e-03 -2.04850346e-01 -2.02234328e-01 -5.82181364e-02\n",
            "   1.91277504e-01 -2.21251808e-02  1.38546139e-01  8.14169571e-02\n",
            "   6.03357255e-02 -1.02146320e-01 -4.33801394e-03 -4.71614599e-02\n",
            "  -8.05665031e-02 -3.30297975e-03  3.45234573e-03  1.17007401e-02\n",
            "  -1.12393327e-01  1.24535084e-01  9.97063071e-02  2.24500790e-01\n",
            "  -5.95014393e-02 -1.45780280e-01 -2.15033785e-01 -9.98004239e-08\n",
            "  -2.31676120e-02 -1.26276702e-01  1.09792285e-01  1.51435956e-01\n",
            "  -1.32582366e-01 -2.96473026e-01  2.13554949e-01  3.10440436e-02\n",
            "   3.80032450e-01  1.42427295e-01  1.34513080e-01 -3.25796485e-01\n",
            "   4.55655158e-02 -1.80395678e-01  6.29554242e-02  2.48670951e-02\n",
            "   9.97034609e-02  1.44576460e-01  1.33940443e-01  4.86896373e-02\n",
            "   7.15647489e-02  6.59130812e-02  8.23460445e-02 -2.32844949e-02\n",
            "  -5.75852990e-02 -4.18375880e-02 -1.14015765e-01 -2.99825780e-02\n",
            "   5.58634885e-02  3.20134833e-02 -1.12575158e-01 -5.48712909e-03\n",
            "  -2.52360329e-02 -7.67213255e-02  5.93784824e-03 -1.12051256e-02\n",
            "  -9.32667851e-02 -7.22055286e-02  4.02982771e-01  1.64740697e-01\n",
            "  -2.73118839e-02 -9.63240042e-02 -8.40908960e-02 -3.15821059e-02\n",
            "   1.37637496e-01 -1.77489623e-01 -4.24042344e-02 -3.61700505e-01\n",
            "  -2.28776410e-02  1.71046957e-01 -9.91480201e-02 -1.28442049e-01\n",
            "   1.62833035e-01  6.52219635e-03  9.82747227e-02  9.57471356e-02\n",
            "   7.87378103e-02  2.58338183e-01  6.41520252e-04  2.47801065e-01\n",
            "   2.21161485e-01 -1.12749778e-01  2.96688490e-02  1.08045012e-01]]\n"
          ]
        }
      ]
    },
    {
      "cell_type": "markdown",
      "source": [
        "## Model Selection (Cosine Similarity)"
      ],
      "metadata": {
        "id": "Gviv5H-Il3jU"
      }
    },
    {
      "cell_type": "code",
      "source": [
        "# Compute cosine similarity between products in the dataset\n",
        "laptop_similarity = cosine_similarity(np.vstack(laptop_data['embeddings'].values))"
      ],
      "metadata": {
        "id": "K15Ek_EIl0Pm"
      },
      "execution_count": null,
      "outputs": []
    },
    {
      "cell_type": "markdown",
      "source": [
        "## Function to get recommendations based on similarity"
      ],
      "metadata": {
        "id": "bmLe6yeGl6px"
      }
    },
    {
      "cell_type": "code",
      "source": [
        "# Function to find the index of the product by name or brand\n",
        "def find_product_index(data, product_name=None, brand_name=None):\n",
        "    if product_name:\n",
        "        # Search for a product that contains the product name (case-insensitive)\n",
        "        product_idx = data[data['text'].str.contains(product_name, case=False, na=False)].index\n",
        "    elif brand_name:\n",
        "        # Search for a product that contains the brand name (case-insensitive)\n",
        "        product_idx = data[data['Brand'].str.contains(brand_name, case=False, na=False)].index\n",
        "    else:\n",
        "        # If neither is provided, return None\n",
        "        return None\n",
        "\n",
        "    if len(product_idx) == 0:\n",
        "        print(f\"No matching product found for name: {product_name} or brand: {brand_name}\")\n",
        "        return None\n",
        "\n",
        "    # Return the first matching index\n",
        "    return product_idx[0]"
      ],
      "metadata": {
        "id": "BJc6Xqool6-p"
      },
      "execution_count": null,
      "outputs": []
    },
    {
      "cell_type": "code",
      "source": [
        "# Function to recommend products based on product name or brand\n",
        "def recommend_products_by_name(similarity_matrix, data, product_name=None, brand_name=None, top_n=5):\n",
        "    # Find the index of the product by name or brand\n",
        "    product_idx = find_product_index(data, product_name=product_name, brand_name=brand_name)\n",
        "\n",
        "    if product_idx is None:\n",
        "        print(\"No product found with the given name or brand.\")\n",
        "        return None\n",
        "\n",
        "    # Get similarity scores for the selected product\n",
        "    similarity_scores = similarity_matrix[product_idx]\n",
        "\n",
        "    # Sort the scores in descending order and return the top N recommendations\n",
        "    similar_products = similarity_scores.argsort()[-top_n-1:-1][::-1]\n",
        "\n",
        "    return data.iloc[similar_products]\n"
      ],
      "metadata": {
        "id": "QxpBB6nomCa5"
      },
      "execution_count": null,
      "outputs": []
    },
    {
      "cell_type": "markdown",
      "source": [
        "## Testing the Recommendation System"
      ],
      "metadata": {
        "id": "sxxQ1OnPmF8C"
      }
    },
    {
      "cell_type": "markdown",
      "source": [
        "### Usage to recommend laptops by product name or brand"
      ],
      "metadata": {
        "id": "zvSE8VATmLec"
      }
    },
    {
      "cell_type": "code",
      "source": [
        "# Recommend based on product name\n",
        "product_name_example = \"HP Pavilion\"\n",
        "recommended_laptops_by_name = recommend_products_by_name(laptop_similarity, laptop_data, product_name=product_name_example)\n",
        "\n",
        "# Display recommended laptops based on product name\n",
        "if recommended_laptops_by_name is not None:\n",
        "    print(\"\\nRecommended Laptops based on product name '{}':\".format(product_name_example))\n",
        "    print(recommended_laptops_by_name[['Brand', 'Description']])\n"
      ],
      "metadata": {
        "colab": {
          "base_uri": "https://localhost:8080/"
        },
        "id": "eEAHTeYMmEdL",
        "outputId": "bb2c41bd-7808-4bfb-cd2f-644760fd0eb7"
      },
      "execution_count": null,
      "outputs": [
        {
          "output_type": "stream",
          "name": "stdout",
          "text": [
            "\n",
            "Recommended Laptops based on product name 'HP Pavilion':\n",
            "   Brand                                        Description\n",
            "2     HP  The HP EliteBook is a premium laptop designed ...\n",
            "17    HP  The HP ENVY x360 is a versatile 2-in-1 convert...\n",
            "0   Dell  The Dell Inspiron is a versatile laptop that c...\n",
            "14   MSI  The MSI Prestige 14 is a compact and stylish l...\n",
            "10  Dell  The Dell XPS 15 is a premium laptop that combi...\n"
          ]
        }
      ]
    },
    {
      "cell_type": "code",
      "source": [
        "# Recommend based on brand name\n",
        "brand_name_example = \"Dell\"\n",
        "recommended_laptops_by_brand = recommend_products_by_name(laptop_similarity, laptop_data, brand_name=brand_name_example)\n",
        "\n",
        "# Display recommended laptops based on brand name\n",
        "if recommended_laptops_by_brand is not None:\n",
        "    print(\"\\nRecommended Laptops based on brand '{}':\".format(brand_name_example))\n",
        "    print(recommended_laptops_by_brand[['Brand', 'Description']])"
      ],
      "metadata": {
        "colab": {
          "base_uri": "https://localhost:8080/"
        },
        "id": "oacRLdMgmYBi",
        "outputId": "f7f518f4-5d72-4a62-c23c-da9a2e927548"
      },
      "execution_count": null,
      "outputs": [
        {
          "output_type": "stream",
          "name": "stdout",
          "text": [
            "\n",
            "Recommended Laptops based on brand 'Dell':\n",
            "   Brand                                        Description\n",
            "10  Dell  The Dell XPS 15 is a premium laptop that combi...\n",
            "8     HP  The HP Pavilion is a budget-friendly laptop th...\n",
            "16  Dell  The Dell Precision 5550 is a high-performance ...\n",
            "2     HP  The HP EliteBook is a premium laptop designed ...\n",
            "17    HP  The HP ENVY x360 is a versatile 2-in-1 convert...\n"
          ]
        }
      ]
    },
    {
      "cell_type": "markdown",
      "source": [
        "## Interactive Widgets with ipywidgets"
      ],
      "metadata": {
        "id": "u1dFh-aOsURL"
      }
    },
    {
      "cell_type": "code",
      "source": [
        "# Create widgets\n",
        "input_type = widgets.Dropdown(\n",
        "    options=['name', 'brand'],\n",
        "    description='Search by:',\n",
        "    style={'description_width': 'initial'}\n",
        ")\n",
        "\n",
        "text_input = widgets.Text(\n",
        "    value='',\n",
        "    placeholder='Enter the product name or brand...',\n",
        "    description='Input:',\n",
        "    style={'description_width': 'initial'}\n",
        ")\n",
        "\n",
        "output = widgets.Output()\n"
      ],
      "metadata": {
        "id": "Ur27n971pQji"
      },
      "execution_count": null,
      "outputs": []
    },
    {
      "cell_type": "code",
      "source": [
        "# Define the function that will be triggered by widget interactions\n",
        "def on_button_click(b):\n",
        "    with output:\n",
        "        output.clear_output()  # Clear previous output\n",
        "        user_input_type = input_type.value\n",
        "        user_input_text = text_input.value\n",
        "\n",
        "        if user_input_type == 'name':\n",
        "            recommended_laptops = recommend_products_by_name(laptop_similarity, laptop_data, product_name=user_input_text)\n",
        "        elif user_input_type == 'brand':\n",
        "            recommended_laptops = recommend_products_by_name(laptop_similarity, laptop_data, brand_name=user_input_text)\n",
        "\n",
        "        if recommended_laptops is not None:\n",
        "            print(f\"\\nRecommended Laptops based on {user_input_type} '{user_input_text}':\")\n",
        "            display(recommended_laptops[['Brand', 'Description']])\n",
        "        else:\n",
        "            print(f\"No recommendations found for {user_input_type} '{user_input_text}'.\")\n"
      ],
      "metadata": {
        "id": "9Z7Ct2Fwsdrj"
      },
      "execution_count": null,
      "outputs": []
    },
    {
      "cell_type": "code",
      "source": [
        "# Button to trigger the recommendation process\n",
        "button = widgets.Button(\n",
        "    description='Get Recommendations',\n",
        "    button_style='success',  # 'success', 'info', 'warning', 'danger'\n",
        "    tooltip='Click to get recommendations'\n",
        ")\n",
        "\n",
        "button.on_click(on_button_click)\n",
        "\n",
        "# Display the widgets and the output area\n",
        "display(input_type, text_input, button, output)\n"
      ],
      "metadata": {
        "colab": {
          "base_uri": "https://localhost:8080/",
          "referenced_widgets": [
            "66f188e9b099472f97c66f1339e4601f",
            "7324d7cfb7e14cdf939aedebf149e8b8",
            "d1b2b853ac22400fb549f2979f7b878b",
            "45ab2d7238c54156bcd1cd6ec740c96e",
            "3f8b94ce956343a6ac24f026f96d6b3c",
            "f73d46d349224fc4aeeeb9ab1dfaee60",
            "0310d62f6cb54a949ab12ea9bb9f821e",
            "06b56b47631d4c50b7efe86038a3e7fa",
            "b465ddece29b44a49650b8de6dd90768",
            "07882ce04180428a9a48e7758a747af1",
            "5d1b01d9349440acb60f769de533953c"
          ]
        },
        "id": "mFZPLjdTsfxj",
        "outputId": "6e2a6a55-1d2d-4f20-fbc1-357110dd610a"
      },
      "execution_count": null,
      "outputs": [
        {
          "output_type": "display_data",
          "data": {
            "text/plain": [
              "Dropdown(description='Search by:', options=('name', 'brand'), style=DescriptionStyle(description_width='initia…"
            ],
            "application/vnd.jupyter.widget-view+json": {
              "version_major": 2,
              "version_minor": 0,
              "model_id": "66f188e9b099472f97c66f1339e4601f"
            }
          },
          "metadata": {}
        },
        {
          "output_type": "display_data",
          "data": {
            "text/plain": [
              "Text(value='', description='Input:', placeholder='Enter the product name or brand...', style=DescriptionStyle(…"
            ],
            "application/vnd.jupyter.widget-view+json": {
              "version_major": 2,
              "version_minor": 0,
              "model_id": "45ab2d7238c54156bcd1cd6ec740c96e"
            }
          },
          "metadata": {}
        },
        {
          "output_type": "display_data",
          "data": {
            "text/plain": [
              "Button(button_style='success', description='Get Recommendations', style=ButtonStyle(), tooltip='Click to get r…"
            ],
            "application/vnd.jupyter.widget-view+json": {
              "version_major": 2,
              "version_minor": 0,
              "model_id": "0310d62f6cb54a949ab12ea9bb9f821e"
            }
          },
          "metadata": {}
        },
        {
          "output_type": "display_data",
          "data": {
            "text/plain": [
              "Output()"
            ],
            "application/vnd.jupyter.widget-view+json": {
              "version_major": 2,
              "version_minor": 0,
              "model_id": "07882ce04180428a9a48e7758a747af1"
            }
          },
          "metadata": {}
        }
      ]
    }
  ]
}